{
 "cells": [
  {
   "cell_type": "code",
   "execution_count": 5,
   "metadata": {},
   "outputs": [],
   "source": [
    "import pandas as pd"
   ]
  },
  {
   "cell_type": "code",
   "execution_count": 6,
   "metadata": {},
   "outputs": [],
   "source": [
    "contract_name = 'MTX'\n",
    "target_path = f'./raw_contracts/{contract_name}/{contract_name}_all.csv'\n",
    "new_contract_path = f'./contracts/{contract_name}.csv'"
   ]
  },
  {
   "cell_type": "code",
   "execution_count": 7,
   "metadata": {
    "scrolled": true
   },
   "outputs": [],
   "source": [
    "df = pd.read_csv(target_path, index_col=False)"
   ]
  },
  {
   "cell_type": "code",
   "execution_count": 8,
   "metadata": {},
   "outputs": [],
   "source": [
    "if contract_name == 'MTX':\n",
    "    new_column_names = {\n",
    "        '交易日期': 'Trading Date', \n",
    "        '到期月份(週別)': 'Delivery Month',\n",
    "        '開盤價': 'Open',\n",
    "        '成交量': 'Volume'\n",
    "    }\n",
    "    df.rename(columns=new_column_names, inplace=True)\n",
    "df.to_csv(new_contract_path, index=False)"
   ]
  }
 ],
 "metadata": {
  "kernelspec": {
   "display_name": "Python 3",
   "language": "python",
   "name": "python3"
  },
  "language_info": {
   "codemirror_mode": {
    "name": "ipython",
    "version": 3
   },
   "file_extension": ".py",
   "mimetype": "text/x-python",
   "name": "python",
   "nbconvert_exporter": "python",
   "pygments_lexer": "ipython3",
   "version": "3.6.9"
  }
 },
 "nbformat": 4,
 "nbformat_minor": 2
}
