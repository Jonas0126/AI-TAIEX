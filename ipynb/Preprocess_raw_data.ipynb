{
 "cells": [
  {
   "cell_type": "code",
   "execution_count": 106,
   "metadata": {},
   "outputs": [],
   "source": [
    "from datetime import datetime\n",
    "import pandas as pd"
   ]
  },
  {
   "cell_type": "code",
   "execution_count": 107,
   "metadata": {
    "scrolled": true
   },
   "outputs": [],
   "source": [
    "start_year = 2016\n",
    "this_year = datetime.now().year\n",
    "this_month = datetime.now().month\n",
    "contract_name = 'MTX'\n",
    "target_path = './raw_contracts/' + contract_name + '/'\n",
    "all_contracts = None\n",
    "\n",
    "# target = target_path + '2018_fut.csv'\n",
    "# df = pd.read_csv(target, index_col=False)\n",
    "# df = df[df['契約']=='MTX']\n",
    "# if '交易時段' in df: # 2016 don't have 交易時段 column\n",
    "#     df = df[df['交易時段']=='一般']\n",
    "# df = df[~df['到期月份(週別)'].str.contains('W')]\n",
    "# df = df[~df['到期月份(週別)'].str.contains('/')]\n",
    "# df['到期月份(週別)'] = df['到期月份(週別)'].str.replace(\"  \", \"\")\n",
    "# df.to_csv('test.csv')\n",
    "# df['到期月份(週別)'] = pd.to_datetime(df['到期月份(週別)'], format='%Y%m')\n",
    "# df['到期月份(週別)'] = df['到期月份(週別)'].dt.strftime('%Y-%m')\n",
    "# df['交易日期'] = pd.to_datetime(df['交易日期'], format='%Y/%m/%d')\n",
    "# df['交易日期'] = df['交易日期'].dt.strftime('%Y-%m-%d')\n",
    "# df = df.reset_index(drop=True)"
   ]
  },
  {
   "cell_type": "code",
   "execution_count": 108,
   "metadata": {
    "scrolled": true
   },
   "outputs": [
    {
     "name": "stderr",
     "output_type": "stream",
     "text": [
      "/usr/local/lib/python3.6/dist-packages/IPython/core/interactiveshell.py:3072: DtypeWarning: Columns (10,11,16) have mixed types.Specify dtype option on import or set low_memory=False.\n",
      "  interactivity=interactivity, compiler=compiler, result=result)\n"
     ]
    },
    {
     "name": "stdout",
     "output_type": "stream",
     "text": [
      "            交易日期   契約 到期月份(週別)   開盤價   最高價   最低價   收盤價   漲跌價     漲跌%     成交量  \\\n",
      "0     2016-01-04  MTX  2016-01  8261  8294  8036  8070  -205  -2.48%  127412   \n",
      "1     2016-01-04  MTX  2016-02  8246  8282  8026  8056  -211  -2.55%    4295   \n",
      "2     2016-01-04  MTX  2016-03  8241  8273  8020  8046  -212  -2.57%    1195   \n",
      "3     2016-01-04  MTX  2016-06  8222  8250  8000  8027  -214  -2.60%     454   \n",
      "4     2016-01-04  MTX  2016-09  7919  7966  7716  7744  -211  -2.65%     286   \n",
      "...          ...  ...      ...   ...   ...   ...   ...   ...     ...     ...   \n",
      "1215  2016-12-30  MTX  2017-01  9210  9281  9210  9263    82   0.89%   78697   \n",
      "1216  2016-12-30  MTX  2017-02  9196  9266  9196  9249    80   0.87%    3408   \n",
      "1217  2016-12-30  MTX  2017-03  9184  9252  9184  9238    80   0.87%     793   \n",
      "1218  2016-12-30  MTX  2017-06  9150  9210  9150  9199    82   0.90%     309   \n",
      "1219  2016-12-30  MTX  2017-09  8822  8894  8822  8880    83   0.94%     282   \n",
      "\n",
      "       結算價 未沖銷契約數 最後最佳買價 最後最佳賣價 歷史最高價 歷史最低價  \n",
      "0     8073  24786   8070   8073  8546  7938  \n",
      "1     8057   3248   8055   8058  8382  8026  \n",
      "2     8048   3014   8045   8050  9806  6944  \n",
      "3     8029   1874   8026   8030  8975  6936  \n",
      "4     7744    789   7743   7748  8600  7630  \n",
      "...    ...    ...    ...    ...   ...   ...  \n",
      "1215  9262  21402   9262   9263  9422  8887  \n",
      "1216  9250   2678   9248   9250  9266  9078  \n",
      "1217  9237   3028   9236   9238  9379  7516  \n",
      "1218  9199   2167   9196   9198  9311  8644  \n",
      "1219  8878   1138   8879   8880  8993  8432  \n",
      "\n",
      "[1220 rows x 16 columns]\n"
     ]
    },
    {
     "name": "stderr",
     "output_type": "stream",
     "text": [
      "/usr/local/lib/python3.6/dist-packages/IPython/core/interactiveshell.py:3072: DtypeWarning: Columns (10,11,16) have mixed types.Specify dtype option on import or set low_memory=False.\n",
      "  interactivity=interactivity, compiler=compiler, result=result)\n",
      "/usr/local/lib/python3.6/dist-packages/IPython/core/interactiveshell.py:3072: DtypeWarning: Columns (16) have mixed types.Specify dtype option on import or set low_memory=False.\n",
      "  interactivity=interactivity, compiler=compiler, result=result)\n"
     ]
    }
   ],
   "source": [
    "# for past year contracts\n",
    "for year in range(start_year, this_year):\n",
    "    target = target_path + str(year) + '_fut.csv'\n",
    "    df = pd.read_csv(target, index_col=False)\n",
    "    df = df[df['契約']=='MTX']\n",
    "    if '交易時段' in df: # 2016 don't have 交易時段 column\n",
    "        df = df[df['交易時段']=='一般']\n",
    "    df = df[~df['到期月份(週別)'].str.contains('W')]\n",
    "    df = df[~df['到期月份(週別)'].str.contains('/')]\n",
    "    df['到期月份(週別)'] = df['到期月份(週別)'].str.replace(\"  \", \"\")\n",
    "    df['到期月份(週別)'] = pd.to_datetime(df['到期月份(週別)'], format='%Y%m')\n",
    "    df['到期月份(週別)'] = df['到期月份(週別)'].dt.strftime('%Y-%m')\n",
    "    df['交易日期'] = pd.to_datetime(df['交易日期'], format='%Y/%m/%d')\n",
    "    df['交易日期'] = df['交易日期'].dt.strftime('%Y-%m-%d')\n",
    "    df = df.reset_index(drop=True)\n",
    "    if all_contracts is None:\n",
    "        print(df.iloc[:, :16])\n",
    "        all_contracts = df.iloc[:, :16]\n",
    "    else:\n",
    "        all_contracts = all_contracts.append(df.iloc[:, :16])"
   ]
  },
  {
   "cell_type": "code",
   "execution_count": 109,
   "metadata": {},
   "outputs": [],
   "source": [
    "for i in range(1, this_month):\n",
    "    if i - 10 < 0:\n",
    "        target = f'{target_path}{this_year}0{i}.csv'\n",
    "    else:\n",
    "        target = f'{target_path}{this_year}{i}.csv'\n",
    "    df = pd.read_csv(target, index_col=False)\n",
    "    df = df[df['契約']=='MTX']\n",
    "    if '交易時段' in df: # 2016 don't have 交易時段 column\n",
    "        df = df[df['交易時段']=='一般']\n",
    "    df = df[~df['到期月份(週別)'].str.contains('W')]\n",
    "    df = df[~df['到期月份(週別)'].str.contains('/')]\n",
    "    df['到期月份(週別)'] = df['到期月份(週別)'].str.replace(\"  \", \"\")\n",
    "    df['到期月份(週別)'] = pd.to_datetime(df['到期月份(週別)'], format='%Y%m')\n",
    "    df['到期月份(週別)'] = df['到期月份(週別)'].dt.strftime('%Y-%m')\n",
    "    df['交易日期'] = pd.to_datetime(df['交易日期'], format='%Y/%m/%d')\n",
    "    df['交易日期'] = df['交易日期'].dt.strftime('%Y-%m-%d')\n",
    "    df = df.reset_index(drop=True)\n",
    "    all_contracts = all_contracts.append(df.iloc[:, :16])"
   ]
  },
  {
   "cell_type": "code",
   "execution_count": 110,
   "metadata": {},
   "outputs": [
    {
     "name": "stdout",
     "output_type": "stream",
     "text": [
      "           交易日期   契約 到期月份(週別)    開盤價    最高價    最低價    收盤價   漲跌價     漲跌%  \\\n",
      "0    2016-01-04  MTX  2016-01   8261   8294   8036   8070  -205  -2.48%   \n",
      "1    2016-01-04  MTX  2016-02   8246   8282   8026   8056  -211  -2.55%   \n",
      "2    2016-01-04  MTX  2016-03   8241   8273   8020   8046  -212  -2.57%   \n",
      "3    2016-01-04  MTX  2016-06   8222   8250   8000   8027  -214  -2.60%   \n",
      "4    2016-01-04  MTX  2016-09   7919   7966   7716   7744  -211  -2.65%   \n",
      "..          ...  ...      ...    ...    ...    ...    ...   ...     ...   \n",
      "115  2021-10-29  MTX  2021-12  17040  17044  16833  16916   -94  -0.55%   \n",
      "116  2021-10-29  MTX  2022-01  16980  16989  16780  16861  -101  -0.60%   \n",
      "117  2021-10-29  MTX  2022-03  16920  16920  16715  16803   -82  -0.49%   \n",
      "118  2021-10-29  MTX  2022-06  16826  16826  16609  16686  -102  -0.61%   \n",
      "119  2021-10-29  MTX  2022-09  16409  16409  16216  16288   -92  -0.56%   \n",
      "\n",
      "        成交量    結算價 未沖銷契約數 最後最佳買價 最後最佳賣價  歷史最高價  歷史最低價  \n",
      "0    127412   8073  24786   8070   8073   8546   7938  \n",
      "1      4295   8057   3248   8055   8058   8382   8026  \n",
      "2      1195   8048   3014   8045   8050   9806   6944  \n",
      "3       454   8029   1874   8026   8030   8975   6936  \n",
      "4       286   7744    789   7743   7748   8600   7630  \n",
      "..      ...    ...    ...    ...    ...    ...    ...  \n",
      "115    6187  16917   8770  16914  16917  17590  13169  \n",
      "116     573  16860    654  16860  16864  17027  16650  \n",
      "117     259  16794   1840  16789  16794  17435  14055  \n",
      "118      89  16686    972  16680  16684  17360  15790  \n",
      "119      65  16286    307  16282  16288  16800  15465  \n",
      "\n",
      "[7936 rows x 16 columns]\n"
     ]
    }
   ],
   "source": [
    "print(all_contracts)"
   ]
  },
  {
   "cell_type": "code",
   "execution_count": 111,
   "metadata": {},
   "outputs": [],
   "source": [
    "all_contracts.to_csv(f'{target_path}{contract_name}_all.csv', index=False)"
   ]
  }
 ],
 "metadata": {
  "kernelspec": {
   "display_name": "Python 3",
   "language": "python",
   "name": "python3"
  },
  "language_info": {
   "codemirror_mode": {
    "name": "ipython",
    "version": 3
   },
   "file_extension": ".py",
   "mimetype": "text/x-python",
   "name": "python",
   "nbconvert_exporter": "python",
   "pygments_lexer": "ipython3",
   "version": "3.6.9"
  }
 },
 "nbformat": 4,
 "nbformat_minor": 2
}
